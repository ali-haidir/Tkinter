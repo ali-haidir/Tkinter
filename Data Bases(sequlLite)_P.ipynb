{
 "cells": [
  {
   "cell_type": "code",
   "execution_count": 1,
   "metadata": {},
   "outputs": [],
   "source": [
    "from tkinter import *\n",
    "\n",
    "from PIL import *\n",
    "from PIL import ImageTk\n",
    "from PIL import Image\n",
    "import sqlite3"
   ]
  },
  {
   "cell_type": "code",
   "execution_count": 2,
   "metadata": {},
   "outputs": [
    {
     "ename": "OperationalError",
     "evalue": "table ADDRESSESS already exists",
     "output_type": "error",
     "traceback": [
      "\u001b[0;31m---------------------------------------------------------------------------\u001b[0m",
      "\u001b[0;31mOperationalError\u001b[0m                          Traceback (most recent call last)",
      "\u001b[0;32m<ipython-input-2-c1c0636305ec>\u001b[0m in \u001b[0;36m<module>\u001b[0;34m\u001b[0m\n\u001b[1;32m     22\u001b[0m     \u001b[0mcity\u001b[0m \u001b[0mtext\u001b[0m\u001b[0;34m,\u001b[0m\u001b[0;34m\u001b[0m\u001b[0;34m\u001b[0m\u001b[0m\n\u001b[1;32m     23\u001b[0m     zipcode integer)\n\u001b[0;32m---> 24\u001b[0;31m     \"\"\")\n\u001b[0m\u001b[1;32m     25\u001b[0m \u001b[0;34m\u001b[0m\u001b[0m\n\u001b[1;32m     26\u001b[0m \u001b[0;34m\u001b[0m\u001b[0m\n",
      "\u001b[0;31mOperationalError\u001b[0m: table ADDRESSESS already exists"
     ]
    }
   ],
   "source": [
    "root = Tk()\n",
    "root.title(\"radio buttons \")\n",
    "#root.iconbitmap(\"/home/hydir/Pictures/triangle.png\")\n",
    "root.geometry(\"1200x1200\")\n",
    "\n",
    "#DataBases \n",
    "\n",
    "#create a new DataBase or connect to an existing one \n",
    "\n",
    "connection  = sqlite3.connect(\"address_book.db\")\n",
    "\n",
    "#create a cursor as c \n",
    "\n",
    "c = connection.cursor()\n",
    "\n",
    "#create a table \n",
    "c.execute(\"\"\" \n",
    "    CREATE TABLE ADDRESSESS(\n",
    "    first_name text,\n",
    "    last_name text,\n",
    "    address text, \n",
    "    city text,\n",
    "    zipcode integer)\n",
    "    \"\"\")\n",
    "\n",
    "\n",
    "#commit changes to database \n",
    "connection.commit()\n",
    "\n",
    "\n",
    "#close connection\n",
    "connection.close()\n",
    "\n",
    "\n",
    "\n",
    "root.mainloop()"
   ]
  },
  {
   "cell_type": "code",
   "execution_count": null,
   "metadata": {},
   "outputs": [],
   "source": []
  }
 ],
 "metadata": {
  "kernelspec": {
   "display_name": "Python 3",
   "language": "python",
   "name": "python3"
  },
  "language_info": {
   "codemirror_mode": {
    "name": "ipython",
    "version": 3
   },
   "file_extension": ".py",
   "mimetype": "text/x-python",
   "name": "python",
   "nbconvert_exporter": "python",
   "pygments_lexer": "ipython3",
   "version": "3.7.6"
  }
 },
 "nbformat": 4,
 "nbformat_minor": 4
}
