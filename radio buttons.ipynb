{
 "cells": [
  {
   "cell_type": "code",
   "execution_count": 1,
   "metadata": {},
   "outputs": [],
   "source": [
    "from tkinter import *\n",
    "\n",
    "from PIL import *\n",
    "from PIL import ImageTk\n",
    "from PIL import Image"
   ]
  },
  {
   "cell_type": "code",
   "execution_count": 36,
   "metadata": {},
   "outputs": [],
   "source": [
    "root = Tk()\n",
    "root.title(\"radio buttons \")\n",
    "#root.iconbitmap(\"/home/hydir/Pictures/triangle.png\")\n",
    "\n",
    "#r = IntVar()\n",
    "#r.set(\"2\")\n",
    "\n",
    "def setter(value ):\n",
    "    \n",
    "    mylabel = Label (root , text = value ).pack()\n",
    "    mylabel.grid_forget()\n",
    "    \n",
    "Modes = [\n",
    "    (\"peporoni \", \"peporoni \"),\n",
    "    (\"onion\", \"onion\"),\n",
    "    (\"chease\", \"chease\"),\n",
    "    (\"pickel\", \"pickel\"),\n",
    "    \n",
    "]\n",
    "\n",
    "pizza = StringVar()\n",
    "pizza.set (\"peporoni\")\n",
    "\n",
    "\n",
    "for text,mode in Modes:\n",
    "    Radiobutton (root , text = text , variable = pizza , value = mode).pack(anchor = E)\n",
    "        \n",
    "\n",
    "#Radiobutton(root , text = \"option 1 \" , variable= r , value =  1 , command = lambda : setter(r.get()) ).pack()\n",
    "#Radiobutton(root , text = \"option 2 \" , variable= r , value =  2 , command = lambda : setter(r.get()) ).pack()\n",
    "\n",
    "\n",
    "\n",
    "mylabel = Label (root , text = pizza.get() ).pack()\n",
    "\n",
    "\n",
    "##another method\n",
    "\n",
    "\n",
    "\n",
    "\n",
    "root.mainloop()"
   ]
  },
  {
   "cell_type": "code",
   "execution_count": null,
   "metadata": {},
   "outputs": [],
   "source": []
  }
 ],
 "metadata": {
  "kernelspec": {
   "display_name": "Python 3",
   "language": "python",
   "name": "python3"
  },
  "language_info": {
   "codemirror_mode": {
    "name": "ipython",
    "version": 3
   },
   "file_extension": ".py",
   "mimetype": "text/x-python",
   "name": "python",
   "nbconvert_exporter": "python",
   "pygments_lexer": "ipython3",
   "version": "3.7.6"
  }
 },
 "nbformat": 4,
 "nbformat_minor": 4
}
