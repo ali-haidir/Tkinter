{
 "cells": [
  {
   "cell_type": "code",
   "execution_count": 3,
   "metadata": {},
   "outputs": [],
   "source": [
    "from tkinter import *\n",
    "\n",
    "from PIL import *\n",
    "from PIL import ImageTk\n",
    "from PIL import Image\n",
    "from tkinter import filedialog "
   ]
  },
  {
   "cell_type": "code",
   "execution_count": 24,
   "metadata": {},
   "outputs": [
    {
     "name": "stderr",
     "output_type": "stream",
     "text": [
      "Exception in Tkinter callback\n",
      "Traceback (most recent call last):\n",
      "  File \"/home/hydir/anaconda3/lib/python3.7/tkinter/__init__.py\", line 1705, in __call__\n",
      "    return self.func(*args)\n",
      "TypeError: button() missing 1 required positional argument: 'var'\n"
     ]
    }
   ],
   "source": [
    "root = Tk()\n",
    "root.title(\"radio buttons \")\n",
    "#root.iconbitmap(\"/home/hydir/Pictures/triangle.png\")\n",
    "root.geometry(\"1200x1200\")\n",
    "\n",
    "def button(var):\n",
    "    label  = Label(root, text = horizontal.get(), ).pack()\n",
    "    root.geometry(str(horizontal.get())  + \"x\" + str(vertical.get()))\n",
    "\n",
    "vertical = Scale(root , from_  = 0, to = 200)\n",
    "vertical.pack()\n",
    "\n",
    "horizontal = Scale(root , from_ =0 ,to = 400, orient = HORIZONTAL , command = button)\n",
    "horizontal.pack()\n",
    "\n",
    "label  = Label(root, text = horizontal.get(), ).pack()\n",
    "b = Button(root , text = \"click me \" , command  = button).pack()\n",
    "\n",
    "\n",
    "\n",
    "\n",
    "root.mainloop()"
   ]
  },
  {
   "cell_type": "code",
   "execution_count": null,
   "metadata": {},
   "outputs": [],
   "source": []
  }
 ],
 "metadata": {
  "kernelspec": {
   "display_name": "Python 3",
   "language": "python",
   "name": "python3"
  },
  "language_info": {
   "codemirror_mode": {
    "name": "ipython",
    "version": 3
   },
   "file_extension": ".py",
   "mimetype": "text/x-python",
   "name": "python",
   "nbconvert_exporter": "python",
   "pygments_lexer": "ipython3",
   "version": "3.7.6"
  }
 },
 "nbformat": 4,
 "nbformat_minor": 4
}
