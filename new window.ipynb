{
 "cells": [
  {
   "cell_type": "code",
   "execution_count": 12,
   "metadata": {},
   "outputs": [],
   "source": [
    "from tkinter import *\n",
    "import PIL \n",
    "from PIL import *\n",
    "from PIL import ImageTk\n",
    "from PIL import Image\n"
   ]
  },
  {
   "cell_type": "code",
   "execution_count": 16,
   "metadata": {},
   "outputs": [],
   "source": [
    "root = Tk()\n",
    "root.title(\" new window \")\n",
    "#root.iconbitmap(\"/home/hydir/Pictures/triangle.png\")\n",
    "\n",
    "\n",
    "def openn():\n",
    "    global img\n",
    "    second_window = Toplevel()\n",
    "    second_window.title(\"second window \")\n",
    "    #img = ImageTk.PhotoImage(Image.open(\"triangle.png\"))\n",
    "    img = ImageTk.PhotoImage(Image.open(\"image.png\"))\n",
    "\n",
    "    label = Label(second_window , image = img).pack()\n",
    "    \n",
    "    b2 = Button(second_window , text = \"destroy\" , command = second_window.destroy).pack()\n",
    "\n",
    "\n",
    "\n",
    "b = Button (root , text = \"click me plz \" , command = openn ).pack()\n",
    "\n",
    "\n",
    "root.mainloop()"
   ]
  },
  {
   "cell_type": "code",
   "execution_count": null,
   "metadata": {},
   "outputs": [],
   "source": []
  }
 ],
 "metadata": {
  "kernelspec": {
   "display_name": "Python 3",
   "language": "python",
   "name": "python3"
  },
  "language_info": {
   "codemirror_mode": {
    "name": "ipython",
    "version": 3
   },
   "file_extension": ".py",
   "mimetype": "text/x-python",
   "name": "python",
   "nbconvert_exporter": "python",
   "pygments_lexer": "ipython3",
   "version": "3.7.6"
  }
 },
 "nbformat": 4,
 "nbformat_minor": 4
}
