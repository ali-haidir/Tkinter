{
 "cells": [
  {
   "cell_type": "code",
   "execution_count": 1,
   "metadata": {},
   "outputs": [],
   "source": [
    "from tkinter import *\n",
    "\n",
    "from PIL import *\n",
    "from PIL import ImageTk\n",
    "from PIL import Image"
   ]
  },
  {
   "cell_type": "code",
   "execution_count": 11,
   "metadata": {},
   "outputs": [],
   "source": [
    "root = Tk()\n",
    "root.title(\"icon & exit button \")\n",
    "#root.iconbitmap(\"/home/hydir/Pictures/triangle.png\")\n",
    "\n",
    "frame = LabelFrame(root , text = \" this is my first frame \" , padx = 50 , pady = 50 )\n",
    "frame.grid(row = 0 , column = 0 , padx = 100 , pady = 100)\n",
    "\n",
    "button = Button(frame , text = \" button 1 \")\n",
    "button.pack()\n",
    "\n",
    "\n",
    "frame2 = LabelFrame(root , text = \" this is my first frame \" , padx = 50 , pady = 50 )\n",
    "frame2.grid(row = 0 , column = 1 , padx = 100 , pady = 100)\n",
    "\n",
    "button2 = Button(frame2 , text = \" button 1 \")\n",
    "button2.grid(row = 0 ,column = 2 )\n",
    "\n",
    "\n",
    "\n",
    "\n",
    "root.mainloop()"
   ]
  },
  {
   "cell_type": "code",
   "execution_count": null,
   "metadata": {},
   "outputs": [],
   "source": []
  }
 ],
 "metadata": {
  "kernelspec": {
   "display_name": "Python 3",
   "language": "python",
   "name": "python3"
  },
  "language_info": {
   "codemirror_mode": {
    "name": "ipython",
    "version": 3
   },
   "file_extension": ".py",
   "mimetype": "text/x-python",
   "name": "python",
   "nbconvert_exporter": "python",
   "pygments_lexer": "ipython3",
   "version": "3.7.6"
  }
 },
 "nbformat": 4,
 "nbformat_minor": 4
}
