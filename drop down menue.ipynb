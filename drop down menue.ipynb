{
 "cells": [
  {
   "cell_type": "code",
   "execution_count": 1,
   "metadata": {},
   "outputs": [],
   "source": [
    "from tkinter import *\n",
    "\n",
    "from PIL import *\n",
    "from PIL import ImageTk\n",
    "from PIL import Image"
   ]
  },
  {
   "cell_type": "code",
   "execution_count": 7,
   "metadata": {},
   "outputs": [],
   "source": [
    "root = Tk()\n",
    "root.title(\"radio buttons \")\n",
    "#root.iconbitmap(\"/home/hydir/Pictures/triangle.png\")\n",
    "root.geometry(\"1200x1200\")\n",
    "\n",
    "\n",
    "clicked = StringVar()\n",
    "clicked.set(\"monday \")\n",
    "\n",
    "drop  = OptionMenu ( root  , clicked  , \"monday \" , \"tuesday\" , \"wenesday\" , \"thursday\").pack()\n",
    "\n",
    "label = Label( root , text = clicked.get()).pack()\n",
    "\n",
    "\n",
    "\n",
    "root.mainloop()"
   ]
  },
  {
   "cell_type": "code",
   "execution_count": null,
   "metadata": {},
   "outputs": [],
   "source": []
  }
 ],
 "metadata": {
  "kernelspec": {
   "display_name": "Python 3",
   "language": "python",
   "name": "python3"
  },
  "language_info": {
   "codemirror_mode": {
    "name": "ipython",
    "version": 3
   },
   "file_extension": ".py",
   "mimetype": "text/x-python",
   "name": "python",
   "nbconvert_exporter": "python",
   "pygments_lexer": "ipython3",
   "version": "3.7.6"
  }
 },
 "nbformat": 4,
 "nbformat_minor": 4
}
