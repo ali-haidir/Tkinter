{
 "cells": [
  {
   "cell_type": "code",
   "execution_count": 19,
   "metadata": {},
   "outputs": [],
   "source": [
    "from tkinter import *\n",
    "\n",
    "root = Tk()\n",
    "\n",
    "def myclick():\n",
    "    var1 = \"hello \" + e.get()\n",
    "    label2 = Label(root, text= var1)\n",
    "    label2.pack()\n",
    "\n",
    "\n",
    "e = Entry(root)\n",
    "e.pack()\n",
    "e.insert(0 , \"enter your name !\")\n",
    "    \n",
    "\n",
    "button = Button(root , text = \"Enter your name  !\" , padx = 5 , pady = 5 , command= myclick , fg = \"green\", bg = \"white\")\n",
    "button.pack()\n",
    "\n",
    "    \n",
    "label  = Label(root , text = \"Label for a button !!\")\n",
    "label.pack()\n",
    "\n",
    "\n",
    "root.mainloop()"
   ]
  },
  {
   "cell_type": "code",
   "execution_count": null,
   "metadata": {},
   "outputs": [],
   "source": []
  },
  {
   "cell_type": "code",
   "execution_count": null,
   "metadata": {},
   "outputs": [],
   "source": []
  }
 ],
 "metadata": {
  "kernelspec": {
   "display_name": "Python 3",
   "language": "python",
   "name": "python3"
  },
  "language_info": {
   "codemirror_mode": {
    "name": "ipython",
    "version": 3
   },
   "file_extension": ".py",
   "mimetype": "text/x-python",
   "name": "python",
   "nbconvert_exporter": "python",
   "pygments_lexer": "ipython3",
   "version": "3.7.6"
  }
 },
 "nbformat": 4,
 "nbformat_minor": 4
}
